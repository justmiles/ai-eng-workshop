{
 "cells": [
  {
   "cell_type": "markdown",
   "metadata": {},
   "source": [
    "# Prompt Engineering Best Practices\n",
    "\n",
    "This notebook demonstrates three key principles for effective prompt engineering:\n",
    "\n",
    "1. **Write clear and explicit instructions**\n",
    "2. **Adopt a persona** \n",
    "3. **Provide examples** - Few-shot vs Zero-shot\n",
    "\n",
    "Let's explore each principle with practical examples!"
   ]
  },
  {
   "cell_type": "code",
   "execution_count": null,
   "metadata": {},
   "outputs": [],
   "source": [
    "# Setup\n",
    "!pip install litellm"
   ]
  },
  {
   "cell_type": "code",
   "execution_count": null,
   "metadata": {},
   "outputs": [],
   "source": [
    "from litellm import completion\n",
    "\n",
    "model=\"ollama/driaforall/tiny-agent-a:0.5b\""
   ]
  },
  {
   "cell_type": "markdown",
   "metadata": {},
   "source": [
    "## 1. Write Clear and Explicit Instructions\n",
    "\n",
    "**Principle**: Specify exactly what you want, including output format, tone, and constraints. Ambiguity leads to unpredictable results.\n",
    "\n",
    "###  Poor Example (Vague Instructions)"
   ]
  },
  {
   "cell_type": "code",
   "execution_count": null,
   "metadata": {},
   "outputs": [],
   "source": [
    "# Poor example: Vague and ambiguous\n",
    "messages_poor = [\n",
    "    {\"role\": \"system\", \"content\": \"You are a helpful assistant.\"},\n",
    "    {\"role\": \"user\", \"content\": \"Tell me about dogs.\"}\n",
    "]\n",
    "\n",
    "response = completion(model=model, messages=messages_poor)\n",
    "print(\"POOR Example Output:\")\n",
    "print(response.choices[0].message.content)"
   ]
  },
  {
   "cell_type": "markdown",
   "metadata": {},
   "source": [
    "###  Good Example (Clear and Explicit)"
   ]
  },
  {
   "cell_type": "code",
   "execution_count": null,
   "metadata": {},
   "outputs": [],
   "source": [
    "# Good example: Clear, specific instructions with format requirements\n",
    "messages_good = [\n",
    "    {\"role\": \"system\", \"content\": \"You are a helpful assistant. Provide concise, factual information in the exact format requested.\"},\n",
    "    {\"role\": \"user\", \"content\": \"\"\"Write exactly 3 benefits of owning dogs for families with children. \n",
    "    \n",
    "    Format requirements:\n",
    "    - Use numbered list (1, 2, 3)\n",
    "    - Each point should be exactly one sentence\n",
    "    - Focus on child development and family bonding\n",
    "    - Keep each point under 20 words\"\"\"}\n",
    "]\n",
    "\n",
    "response = completion(model=model, messages=messages_good)\n",
    "print(\"GOOD Example Output:\")\n",
    "print(response.choices[0].message.content)"
   ]
  },
  {
   "cell_type": "markdown",
   "metadata": {},
   "source": [
    "## 2. Adopt a Persona\n",
    "\n",
    "**Principle**: Asking the model to take on a specific role helps it use the right perspective and expertise for generating responses.\n",
    "\n",
    "### Example: Explaining the same concept to different audiences"
   ]
  },
  {
   "cell_type": "code",
   "execution_count": null,
   "metadata": {},
   "outputs": [],
   "source": [
    "# Persona 1: First-grade teacher\n",
    "messages_teacher = [\n",
    "    {\"role\": \"system\", \"content\": \"You are a patient and enthusiastic first-grade teacher. Use simple words, fun comparisons, and encourage curiosity. Keep explanations very short and engaging.\"},\n",
    "    {\"role\": \"user\", \"content\": \"Explain what gravity is.\"}\n",
    "]\n",
    "\n",
    "response = completion(model=model, messages=messages_teacher)\n",
    "print(\"FIRST-GRADE TEACHER explains gravity:\")\n",
    "print(response.choices[0].message.content)"
   ]
  },
  {
   "cell_type": "code",
   "execution_count": null,
   "metadata": {},
   "outputs": [],
   "source": [
    "# Persona 2: Physics professor\n",
    "messages_professor = [\n",
    "    {\"role\": \"system\", \"content\": \"You are a physics professor speaking to undergraduate students. Use precise scientific terminology and provide comprehensive explanations with relevant formulas.\"},\n",
    "    {\"role\": \"user\", \"content\": \"Explain what gravity is.\"}\n",
    "]\n",
    "\n",
    "response = completion(model=model, messages=messages_professor)\n",
    "print(\"PHYSICS PROFESSOR explains gravity:\")\n",
    "print(response.choices[0].message.content)"
   ]
  },
  {
   "cell_type": "markdown",
   "metadata": {},
   "source": [
    "## 3. Provide Examples\n",
    "\n",
    "**Principle**: Including 2-5 examples of desired input-output pairs can significantly improve accuracy and consistency.\n",
    "\n",
    "### Example: Few-shot prompting for consistent formatting"
   ]
  },
  {
   "cell_type": "code",
   "execution_count": null,
   "metadata": {},
   "outputs": [],
   "source": [
    "# Few-shot example: Teaching the model a specific format for movie reviews\n",
    "messages_fewshot = [\n",
    "    {\"role\": \"system\", \"content\": \"You are a movie reviewer who writes concise, structured reviews. Follow the exact format shown in the examples.\"},\n",
    "    {\"role\": \"user\", \"content\": \"\"\"Here are examples of the review format I want:\n",
    "\n",
    "Movie: The Lion King\n",
    "Genre: Animation/Family\n",
    "Rating: (5/5)\n",
    "Summary: A timeless tale of responsibility and courage with stunning visuals.\n",
    "Recommend: YES - Perfect for all ages\n",
    "\n",
    "Movie: Inception\n",
    "Genre: Sci-Fi/Thriller  \n",
    "Rating: (4/5)\n",
    "Summary: Mind-bending plot with excellent cinematography but complex narrative.\n",
    "Recommend: YES - For mature audiences who enjoy puzzles\n",
    "\n",
    "Now write a review for: Toy Story\"\"\"}\n",
    "]\n",
    "\n",
    "response = completion(model=model, messages=messages_fewshot)\n",
    "print(\"FEW-SHOT PROMPTING Result:\")\n",
    "print(response.choices[0].message.content)\n",
    "print(\"\\n\" + \"=\"*50 + \"\\n\")"
   ]
  },
  {
   "cell_type": "markdown",
   "metadata": {},
   "source": [
    "## 4. Position Matters: Beginning and End Are Key\n",
    "\n",
    "Models exhibit **recency bias** and **primacy bias** - they pay more attention to information at the beginning and end of the context than content buried in the middle.\n",
    "\n",
    "###  Bad Example: Important Information Buried"
   ]
  },
  {
   "cell_type": "code",
   "execution_count": null,
   "metadata": {},
   "outputs": [],
   "source": [
    "# Bad: Critical information hidden in the middle\n",
    "bad_messages = [\n",
    "    {\"role\": \"system\", \"content\": \"You are a helpful assistant.\"},\n",
    "    {\"role\": \"user\", \"content\": \"\"\"\n",
    "    I need help with my project. Here's some background: I work at a tech company.\n",
    "    We use various tools and technologies. Our team is diverse and talented.\n",
    "    The project involves machine learning and data processing.\n",
    "    CRITICAL: The deadline is tomorrow and I need to focus only on the deployment checklist.\n",
    "    We've been working on this for months. The stakeholders are eager to see results.\n",
    "    What should I do to prepare for the presentation?\n",
    "    \"\"\"}\n",
    "]\n",
    "\n",
    "print(\" Bad Example Response:\")\n",
    "bad_response = completion(model=model, messages=bad_messages)\n",
    "print(bad_response)"
   ]
  },
  {
   "cell_type": "markdown",
   "metadata": {},
   "source": [
    "###  Good Example: Critical Information at Beginning and End"
   ]
  },
  {
   "cell_type": "code",
   "execution_count": null,
   "metadata": {},
   "outputs": [],
   "source": [
    "# Good: Critical information prominently positioned\n",
    "good_messages = [\n",
    "    {\"role\": \"system\", \"content\": \"\"\"\n",
    "    You are a deployment specialist. PRIORITY: Focus on actionable deployment checklists.\n",
    "    \"\"\"}, \n",
    "    {\"role\": \"user\", \"content\": \"\"\"\n",
    "    URGENT: Deployment deadline is tomorrow. Need deployment checklist focus only.\n",
    "    \n",
    "    Context: ML project at tech company, months of development, stakeholder presentation.\n",
    "    \n",
    "    QUESTION: What deployment checklist items should I prioritize for tomorrow's deadline?\n",
    "    \"\"\"}\n",
    "]\n",
    "\n",
    "print(\"Good Example Response:\")\n",
    "good_response = completion(model=model, messages=good_messages)\n",
    "print(good_response)"
   ]
  },
  {
   "cell_type": "markdown",
   "metadata": {},
   "source": [
    "## 5. Combining All Three Principles\n",
    "\n",
    "**Best Practice**: The most effective prompts combine clear instructions + persona + examples + positioning"
   ]
  },
  {
   "cell_type": "code",
   "execution_count": null,
   "metadata": {},
   "outputs": [],
   "source": [
    "# Combined example: All three principles together\n",
    "messages_combined = [\n",
    "    {\"role\": \"system\", \"content\": \"You are a professional email writing coach who helps people write clear, professional emails. You always follow the specific format and tone guidelines provided.\"},\n",
    "    {\"role\": \"user\", \"content\": \"\"\"I need help writing professional emails. Here are examples of the style I want:\n",
    "\n",
    "Example 1:\n",
    "Subject: Meeting Request - Project Update\n",
    "Dear [Name],\n",
    "I hope this email finds you well. I would like to schedule a 30-minute meeting to discuss our project progress.\n",
    "Available times: Tuesday 2-4 PM or Wednesday 10 AM-12 PM\n",
    "Best regards,\n",
    "[Your name]\n",
    "\n",
    "Example 2:\n",
    "Subject: Follow-up - Action Items\n",
    "Dear [Name],\n",
    "Thank you for the productive meeting yesterday. Please find the agreed action items below:\n",
    "• Task 1: Complete by Friday\n",
    "• Task 2: Review by Monday\n",
    "Best regards,\n",
    "[Your name]\n",
    "\n",
    "Now write an email with these requirements:\n",
    "- Purpose: Requesting time off for vacation\n",
    "- Dates: December 20-30\n",
    "- Recipient: Your manager\n",
    "- Tone: Professional and respectful\n",
    "- Include: Proposed coverage plan\"\"\"}\n",
    "]\n",
    "\n",
    "response = completion(model=model, messages=messages_combined)\n",
    "print(\"COMBINED APPROACH Result:\")\n",
    "print(response.choices[0].message.content)"
   ]
  }
 ],
 "metadata": {
  "kernelspec": {
   "display_name": "Python 3 (ipykernel)",
   "language": "python",
   "name": "python3"
  },
  "language_info": {
   "codemirror_mode": {
    "name": "ipython",
    "version": 3
   },
   "file_extension": ".py",
   "mimetype": "text/x-python",
   "name": "python",
   "nbconvert_exporter": "python",
   "pygments_lexer": "ipython3",
   "version": "3.13.8"
  }
 },
 "nbformat": 4,
 "nbformat_minor": 4
}
