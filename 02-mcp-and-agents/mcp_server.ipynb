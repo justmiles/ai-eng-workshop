{
 "cells": [
  {
   "cell_type": "markdown",
   "id": "955b6edd-b841-46c7-b37d-b558ce69a61a",
   "metadata": {},
   "source": [
    "## Install dependencies"
   ]
  },
  {
   "cell_type": "code",
   "execution_count": 2,
   "id": "9837c2c3-24e9-45c8-8060-ac0f35267274",
   "metadata": {},
   "outputs": [
    {
     "name": "stdout",
     "output_type": "stream",
     "text": [
      "Requirement already satisfied: mcp==1.8.0 in /opt/conda/lib/python3.13/site-packages (from mcp[cli]==1.8.0) (1.8.0)\n",
      "Requirement already satisfied: anyio>=4.5 in /opt/conda/lib/python3.13/site-packages (from mcp==1.8.0->mcp[cli]==1.8.0) (4.11.0)\n",
      "Requirement already satisfied: httpx-sse>=0.4 in /opt/conda/lib/python3.13/site-packages (from mcp==1.8.0->mcp[cli]==1.8.0) (0.4.0)\n",
      "Requirement already satisfied: httpx>=0.27 in /opt/conda/lib/python3.13/site-packages (from mcp==1.8.0->mcp[cli]==1.8.0) (0.28.1)\n",
      "Requirement already satisfied: pydantic-settings>=2.5.2 in /opt/conda/lib/python3.13/site-packages (from mcp==1.8.0->mcp[cli]==1.8.0) (2.11.0)\n",
      "Requirement already satisfied: pydantic<3.0.0,>=2.7.2 in /opt/conda/lib/python3.13/site-packages (from mcp==1.8.0->mcp[cli]==1.8.0) (2.12.3)\n",
      "Requirement already satisfied: python-multipart>=0.0.9 in /opt/conda/lib/python3.13/site-packages (from mcp==1.8.0->mcp[cli]==1.8.0) (0.0.20)\n",
      "Requirement already satisfied: sse-starlette>=1.6.1 in /opt/conda/lib/python3.13/site-packages (from mcp==1.8.0->mcp[cli]==1.8.0) (3.0.2)\n",
      "Requirement already satisfied: starlette>=0.27 in /opt/conda/lib/python3.13/site-packages (from mcp==1.8.0->mcp[cli]==1.8.0) (0.48.0)\n",
      "Requirement already satisfied: uvicorn>=0.23.1 in /opt/conda/lib/python3.13/site-packages (from mcp==1.8.0->mcp[cli]==1.8.0) (0.38.0)\n",
      "Requirement already satisfied: python-dotenv>=1.0.0 in /opt/conda/lib/python3.13/site-packages (from mcp[cli]==1.8.0) (1.2.1)\n",
      "Requirement already satisfied: typer>=0.12.4 in /opt/conda/lib/python3.13/site-packages (from mcp[cli]==1.8.0) (0.19.2)\n",
      "Requirement already satisfied: annotated-types>=0.6.0 in /opt/conda/lib/python3.13/site-packages (from pydantic<3.0.0,>=2.7.2->mcp==1.8.0->mcp[cli]==1.8.0) (0.7.0)\n",
      "Requirement already satisfied: pydantic-core==2.41.4 in /opt/conda/lib/python3.13/site-packages (from pydantic<3.0.0,>=2.7.2->mcp==1.8.0->mcp[cli]==1.8.0) (2.41.4)\n",
      "Requirement already satisfied: typing-extensions>=4.14.1 in /opt/conda/lib/python3.13/site-packages (from pydantic<3.0.0,>=2.7.2->mcp==1.8.0->mcp[cli]==1.8.0) (4.15.0)\n",
      "Requirement already satisfied: typing-inspection>=0.4.2 in /opt/conda/lib/python3.13/site-packages (from pydantic<3.0.0,>=2.7.2->mcp==1.8.0->mcp[cli]==1.8.0) (0.4.2)\n",
      "Requirement already satisfied: idna>=2.8 in /opt/conda/lib/python3.13/site-packages (from anyio>=4.5->mcp==1.8.0->mcp[cli]==1.8.0) (3.11)\n",
      "Requirement already satisfied: sniffio>=1.1 in /opt/conda/lib/python3.13/site-packages (from anyio>=4.5->mcp==1.8.0->mcp[cli]==1.8.0) (1.3.1)\n",
      "Requirement already satisfied: certifi in /opt/conda/lib/python3.13/site-packages (from httpx>=0.27->mcp==1.8.0->mcp[cli]==1.8.0) (2025.10.5)\n",
      "Requirement already satisfied: httpcore==1.* in /opt/conda/lib/python3.13/site-packages (from httpx>=0.27->mcp==1.8.0->mcp[cli]==1.8.0) (1.0.9)\n",
      "Requirement already satisfied: h11>=0.16 in /opt/conda/lib/python3.13/site-packages (from httpcore==1.*->httpx>=0.27->mcp==1.8.0->mcp[cli]==1.8.0) (0.16.0)\n",
      "Requirement already satisfied: click>=8.0.0 in /opt/conda/lib/python3.13/site-packages (from typer>=0.12.4->mcp[cli]==1.8.0) (8.3.0)\n",
      "Requirement already satisfied: shellingham>=1.3.0 in /opt/conda/lib/python3.13/site-packages (from typer>=0.12.4->mcp[cli]==1.8.0) (1.5.4)\n",
      "Requirement already satisfied: rich>=10.11.0 in /opt/conda/lib/python3.13/site-packages (from typer>=0.12.4->mcp[cli]==1.8.0) (14.2.0)\n",
      "Requirement already satisfied: markdown-it-py>=2.2.0 in /opt/conda/lib/python3.13/site-packages (from rich>=10.11.0->typer>=0.12.4->mcp[cli]==1.8.0) (4.0.0)\n",
      "Requirement already satisfied: pygments<3.0.0,>=2.13.0 in /opt/conda/lib/python3.13/site-packages (from rich>=10.11.0->typer>=0.12.4->mcp[cli]==1.8.0) (2.19.2)\n",
      "Requirement already satisfied: mdurl~=0.1 in /opt/conda/lib/python3.13/site-packages (from markdown-it-py>=2.2.0->rich>=10.11.0->typer>=0.12.4->mcp[cli]==1.8.0) (0.1.2)\n"
     ]
    }
   ],
   "source": [
    "!pip install \"mcp[cli]==1.8.0\""
   ]
  },
  {
   "cell_type": "code",
   "execution_count": 4,
   "id": "e9371458-5a87-4188-bfa0-a1f80edbcfce",
   "metadata": {},
   "outputs": [],
   "source": [
    "from mcp.server.fastmcp import FastMCP"
   ]
  },
  {
   "cell_type": "code",
   "execution_count": 77,
   "id": "51dab63e-065f-4381-a8d5-348d7dd268ed",
   "metadata": {},
   "outputs": [],
   "source": [
    "mcp = FastMCP(\"TodoMCP\", log_level=\"ERROR\")\n",
    "from pydantic import Field\n",
    "items = {\n",
    "    1: \"Create an app\",\n",
    "    2: \"Deploy an app\",\n",
    "}"
   ]
  },
  {
   "cell_type": "code",
   "execution_count": 79,
   "id": "e4a7c463-f194-4b88-bb0d-5eed5a5593d1",
   "metadata": {},
   "outputs": [
    {
     "data": {
      "text/plain": [
       "['1: Create an app', '2: Deploy an app', '3: debug my app']"
      ]
     },
     "execution_count": 79,
     "metadata": {},
     "output_type": "execute_result"
    }
   ],
   "source": [
    "@mcp.tool(\n",
    "    name=\"list_todo_items\",\n",
    "    description=\"List available items in the TODO task list.\",\n",
    ")\n",
    "def list_items() -> list[str]:\n",
    "    return [f\"{key}: {value}\" for key, value in items.items()]\n",
    "\n",
    "list_items()"
   ]
  },
  {
   "cell_type": "code",
   "execution_count": 85,
   "id": "ed344112-6081-4983-905b-ba0707e9c9c8",
   "metadata": {},
   "outputs": [],
   "source": [
    "@mcp.tool(\n",
    "    name=\"add_todo_item\",\n",
    "    description=\"List available items in the TODO task list.\",\n",
    ")\n",
    "def add_item(\n",
    "    item: str = Field(description=\"TODO item to add to task list\"),\n",
    "):\n",
    "    # Find the next available integer key\n",
    "    next_key = (max(items.keys()) + 1) if items else 1\n",
    "    items[next_key] = item\n",
    "    return\n",
    "\n",
    "add_item(\"debug my app\")"
   ]
  },
  {
   "cell_type": "code",
   "execution_count": 82,
   "id": "9f1a1854-7a65-4f5d-a09c-6b9bf6184da2",
   "metadata": {},
   "outputs": [],
   "source": [
    "@mcp.tool(\n",
    "    name=\"complete_todo_item\",\n",
    "    description=\"Mark an item completed by removing it from the list.\",\n",
    ")\n",
    "def complete_item(\n",
    "    item_id: int = Field(description=\"Id of the item that will be marked completed\"),\n",
    "):\n",
    "    # Remove the item if it exists\n",
    "    items.pop(item_id, None)\n",
    "    return\n",
    "\n",
    "complete_item(3)\n"
   ]
  },
  {
   "cell_type": "code",
   "execution_count": 87,
   "id": "06cc26fb-81a3-47ec-8a5f-a70509e35dfb",
   "metadata": {},
   "outputs": [
    {
     "name": "stdout",
     "output_type": "stream",
     "text": [
      "['1: Create an app', '2: Deploy an app', '4: debug my app', '5: debug my app']\n"
     ]
    }
   ],
   "source": [
    "print([f\"{key}: {value}\" for key, value in items.items()])"
   ]
  }
 ],
 "metadata": {
  "kernelspec": {
   "display_name": "Python 3 (ipykernel)",
   "language": "python",
   "name": "python3"
  },
  "language_info": {
   "codemirror_mode": {
    "name": "ipython",
    "version": 3
   },
   "file_extension": ".py",
   "mimetype": "text/x-python",
   "name": "python",
   "nbconvert_exporter": "python",
   "pygments_lexer": "ipython3",
   "version": "3.13.9"
  }
 },
 "nbformat": 4,
 "nbformat_minor": 5
}
